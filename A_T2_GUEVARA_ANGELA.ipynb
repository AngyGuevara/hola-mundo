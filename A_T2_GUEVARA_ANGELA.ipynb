{
  "nbformat": 4,
  "nbformat_minor": 0,
  "metadata": {
    "colab": {
      "provenance": [],
      "authorship_tag": "ABX9TyNbkVijCe1qN+k5Al3GOJo4",
      "include_colab_link": true
    },
    "kernelspec": {
      "name": "python3",
      "display_name": "Python 3"
    },
    "language_info": {
      "name": "python"
    }
  },
  "cells": [
    {
      "cell_type": "markdown",
      "metadata": {
        "id": "view-in-github",
        "colab_type": "text"
      },
      "source": [
        "<a href=\"https://colab.research.google.com/github/AngyGuevara/hola-mundo/blob/main/A_T2_GUEVARA_ANGELA.ipynb\" target=\"_parent\"><img src=\"https://colab.research.google.com/assets/colab-badge.svg\" alt=\"Open In Colab\"/></a>"
      ]
    },
    {
      "cell_type": "markdown",
      "source": [
        "# **Trabajo 2**\n",
        "## TECNOLOGIAS DE LA INFORMACION Y COMUNICACION\n",
        "### UNIDAD 3- HERRAMIENTA COLABORATIVAS EN LINEA"
      ],
      "metadata": {
        "id": "uoJ59eti0jDT"
      }
    },
    {
      "cell_type": "markdown",
      "source": [
        "1.Hola Mundo: Escribe un programa que imprima \"Hola, Mundo!\" en la pantalla.\n"
      ],
      "metadata": {
        "id": "XMbrY0d1rGuv"
      }
    },
    {
      "cell_type": "code",
      "source": [
        "print(\"Hola Mundo\")"
      ],
      "metadata": {
        "colab": {
          "base_uri": "https://localhost:8080/"
        },
        "id": "X4AxEjP3rSVP",
        "outputId": "d8b11e7d-94e7-4ddf-e29b-a5ee800093ed"
      },
      "execution_count": null,
      "outputs": [
        {
          "output_type": "stream",
          "name": "stdout",
          "text": [
            "Hola Mundo\n"
          ]
        }
      ]
    },
    {
      "cell_type": "markdown",
      "source": [
        "2. Suma de dos números: Escribe un programa que pida al usuario dos números y los sume."
      ],
      "metadata": {
        "id": "u3CVmyyjreGZ"
      }
    },
    {
      "cell_type": "code",
      "source": [
        "n1 = int(input(\"Ingrese primer numero: \"))\n",
        "n2 = int(input(\"Ingrese segundo numero: \"))\n",
        "suma = n1 + n2\n",
        "print(\"La suma de los numeros es: \", n1+n2)\n"
      ],
      "metadata": {
        "id": "UVO8_JqmrmYn",
        "colab": {
          "base_uri": "https://localhost:8080/"
        },
        "outputId": "839576da-ee52-4ba8-b260-d214dfee017d"
      },
      "execution_count": 14,
      "outputs": [
        {
          "output_type": "stream",
          "name": "stdout",
          "text": [
            "Ingrese primer numero: 20\n",
            "Ingrese segundo numero: 5\n",
            "La suma de los numeros es:  25\n"
          ]
        }
      ]
    },
    {
      "cell_type": "markdown",
      "source": [
        "3.Par o Impar: Escribe un programa que determine si un número introducido por el usuario es par o impar"
      ],
      "metadata": {
        "id": "H3fpCjyesEdl"
      }
    },
    {
      "cell_type": "code",
      "source": [
        "num = int(input(\"Ingrese el numero entero: \"))\n",
        "if num % 2 == 0:\n",
        "    print(\"El numero es par\")\n",
        "else:\n",
        "    print(\"El numero es impar\")"
      ],
      "metadata": {
        "colab": {
          "base_uri": "https://localhost:8080/"
        },
        "id": "wPHtquwzsNje",
        "outputId": "bcb1be6b-c8c8-4954-af5f-baca36d79fac"
      },
      "execution_count": null,
      "outputs": [
        {
          "output_type": "stream",
          "name": "stdout",
          "text": [
            "Ingrese el numero entero: 20\n",
            "El numero es par\n"
          ]
        }
      ]
    },
    {
      "cell_type": "markdown",
      "source": [
        "4. Calculadora básica: Escribe un programa que realice operaciones básicas (suma, resta, multiplicación y división) entre dos números introducidos por el usuario"
      ],
      "metadata": {
        "id": "NX7wkYvgsWdk"
      }
    },
    {
      "cell_type": "code",
      "source": [
        "n1 = input(\"ingrese un numero\")\n",
        "n2 = input(\"ingrese otro numero\")\n",
        "print(\"1 suma\")\n",
        "print(\"2 resta\")\n",
        "print(\"3 multiplicacion\")\n",
        "print(\"4 division\")\n",
        "seleccion = input(\"selecione la operacion\")\n",
        "\n",
        "if seleccion == \"1\":\n",
        "    print(int(n1) + int(n2))\n",
        "elif seleccion == \"2\":\n",
        "    print(int(n1) - int (n2))\n",
        "elif seleccion == \"3\":\n",
        "    print(int(n1) * int(n2))\n",
        "else:\n",
        "    print(int(n1) / int(n2))"
      ],
      "metadata": {
        "colab": {
          "base_uri": "https://localhost:8080/"
        },
        "id": "WGfIGCncsfSe",
        "outputId": "5d4e1782-3e0e-4af0-f9d3-f7661592a546"
      },
      "execution_count": null,
      "outputs": [
        {
          "output_type": "stream",
          "name": "stdout",
          "text": [
            "ingrese un numero20\n",
            "ingrese otro numero10\n",
            "1 suma\n",
            "2 resta\n",
            "3 multiplicacion\n",
            "4 division\n",
            "selecione la operacion2\n",
            "10\n"
          ]
        }
      ]
    },
    {
      "cell_type": "code",
      "source": [
        "5. Número mayor: Escribe un programa que pida tres números al usuario y determine cuál es el mayor"
      ],
      "metadata": {
        "id": "DSiHY9-1s4ks"
      },
      "execution_count": null,
      "outputs": []
    },
    {
      "cell_type": "code",
      "source": [
        "n1 = int(input(\"Ingrese primer numero: \"))\n",
        "n2 = int(input(\"Ingrese segundo numero: \"))\n",
        "if n1 < n2:\n",
        "  print(\"El numero menor es n1\")\n",
        "if n1 > n2:\n",
        "  print(\"El numero menor es n2\")\n"
      ],
      "metadata": {
        "colab": {
          "base_uri": "https://localhost:8080/"
        },
        "id": "Xw5FAKX5tWG3",
        "outputId": "080cfd66-ebec-44de-f49f-7733bf695098"
      },
      "execution_count": null,
      "outputs": [
        {
          "output_type": "stream",
          "name": "stdout",
          "text": [
            "Ingrese primer numero: 10\n",
            "Ingrese segundo numero: 3\n",
            "El numero menor es n2\n"
          ]
        }
      ]
    },
    {
      "cell_type": "markdown",
      "source": [
        "6. Cálculo del área de un círculo: Escribe un programa que calcule el área de un círculo a partir de su radio, ingresado por el usuario"
      ],
      "metadata": {
        "id": "OmxxDoGf3aFH"
      }
    },
    {
      "cell_type": "code",
      "source": [
        "# Importamos la librería math para usar el valor de pi\n",
        "import math\n",
        "\n",
        "# Función para calcular el área del círculo\n",
        "def calcular_area_circulo(radio):\n",
        "    area = math.pi * (radio ** 2)\n",
        "    return area\n",
        "\n",
        "# Solicitar al usuario que ingrese el radio\n",
        "radio = float(input(\"Por favor, ingrese el radio del círculo: \"))\n",
        "\n",
        "# Calcular el área\n",
        "area = calcular_area_circulo(radio)\n",
        "\n",
        "# Mostrar el resultado\n",
        "print(f\"El área del círculo con radio {radio} es {area:.2f}\")\n"
      ],
      "metadata": {
        "colab": {
          "base_uri": "https://localhost:8080/"
        },
        "id": "OEGQrSQu3jB_",
        "outputId": "aabfec74-cd26-4994-a3f1-b6225b7b8077"
      },
      "execution_count": null,
      "outputs": [
        {
          "output_type": "stream",
          "name": "stdout",
          "text": [
            "Por favor, ingrese el radio del círculo: 3.5\n",
            "El área del círculo con radio 3.5 es 38.48\n"
          ]
        }
      ]
    },
    {
      "cell_type": "markdown",
      "source": [
        "7. Conversión de grados Celsius a Fahrenheit: Escribe un programa que convierta una temperatura dada en grados Celsius a grados Fahrenheit"
      ],
      "metadata": {
        "id": "VdJkK_mB4SYf"
      }
    },
    {
      "cell_type": "code",
      "source": [
        "temperaturaF = float(input(\"Ingrese la temperatura en grados Farenheit: \"))\n",
        "celsius =  (5/9) * (temperaturaF-32)\n",
        "print(\"La temperatura en grados celsius es \", celsius)"
      ],
      "metadata": {
        "colab": {
          "base_uri": "https://localhost:8080/"
        },
        "id": "DyXYwUJL4aFT",
        "outputId": "83ff8bc9-61e4-4ec5-e1c4-ef2b1cdbd319"
      },
      "execution_count": null,
      "outputs": [
        {
          "output_type": "stream",
          "name": "stdout",
          "text": [
            "Ingrese la temperatura en grados Farenheit: 75\n",
            "La temperatura en grados celsius es  23.88888888888889\n"
          ]
        }
      ]
    },
    {
      "cell_type": "markdown",
      "source": [
        "8. Cuenta atrás: Escribe un programa que cuente hacia atrás desde 10 hasta 0."
      ],
      "metadata": {
        "id": "EHKtXFgv_g0X"
      }
    },
    {
      "cell_type": "code",
      "source": [
        "for i in range(10, -1, -1):\n",
        "    print(i)"
      ],
      "metadata": {
        "colab": {
          "base_uri": "https://localhost:8080/"
        },
        "id": "zsMjA7RXAdeP",
        "outputId": "45acae46-3e54-4628-f394-251ce3c3e663"
      },
      "execution_count": null,
      "outputs": [
        {
          "output_type": "stream",
          "name": "stdout",
          "text": [
            "10\n",
            "9\n",
            "8\n",
            "7\n",
            "6\n",
            "5\n",
            "4\n",
            "3\n",
            "2\n",
            "1\n",
            "0\n"
          ]
        }
      ]
    },
    {
      "cell_type": "markdown",
      "source": [
        "9. Tabla de multiplicar: Escribe un programa que muestre la tabla de multiplicar de un número introducido por el usuario\n"
      ],
      "metadata": {
        "id": "ieopTy4CAFJK"
      }
    },
    {
      "cell_type": "code",
      "source": [
        "n1 = int(input(\"Ingrese un numero:\"))\n",
        "for i in range(1,13):\n",
        "    multiplicacion=n1*i\n",
        "    print(f'{n1} x {i} = {multiplicacion}')"
      ],
      "metadata": {
        "colab": {
          "base_uri": "https://localhost:8080/"
        },
        "id": "tuI5Hx_TASRx",
        "outputId": "9ba93935-3793-4ce1-907a-668263a7d08a"
      },
      "execution_count": null,
      "outputs": [
        {
          "output_type": "stream",
          "name": "stdout",
          "text": [
            "Ingrese un numero:5\n",
            "5 x 1 = 5\n",
            "5 x 2 = 10\n",
            "5 x 3 = 15\n",
            "5 x 4 = 20\n",
            "5 x 5 = 25\n",
            "5 x 6 = 30\n",
            "5 x 7 = 35\n",
            "5 x 8 = 40\n",
            "5 x 9 = 45\n",
            "5 x 10 = 50\n",
            "5 x 11 = 55\n",
            "5 x 12 = 60\n"
          ]
        }
      ]
    },
    {
      "cell_type": "markdown",
      "source": [
        "10. Números primos: Escribe un programa que determine si un número introducido por el usuario es primo"
      ],
      "metadata": {
        "id": "8RSkF3cZrHgS"
      }
    },
    {
      "cell_type": "code",
      "source": [
        "def es_primo(n):\n",
        "    # Los números menores o iguales a 1 no son primos\n",
        "    if n <= 1:\n",
        "        return False\n",
        "    # El 2 y el 3 son primos\n",
        "    if n <= 3:\n",
        "        return True\n",
        "    # Si el número es divisible por 2 o 3, no es primo\n",
        "    if n % 2 == 0 or n % 3 == 0:\n",
        "        return False\n",
        "    # Comprobamos divisores desde 5 hasta la raíz cuadrada de n\n",
        "    i = 5\n",
        "    while i * i <= n:\n",
        "        if n % i == 0 or n % (i + 2) == 0:\n",
        "            return False\n",
        "        i += 6\n",
        "    return True\n",
        "\n",
        "# Solicitamos al usuario que introduzca un número\n",
        "numero = int(input(\"Introduce un número: \"))\n",
        "\n",
        "# Verificamos si el número es primo\n",
        "if es_primo(numero):\n",
        "    print(f\"El número {numero} es primo.\")\n",
        "else:\n",
        "    print(f\"El número {numero} no es primo.\")\n"
      ],
      "metadata": {
        "colab": {
          "base_uri": "https://localhost:8080/"
        },
        "id": "sq2lvEurrI_k",
        "outputId": "0dcf63fe-4466-4375-f5c4-9c96a2b0e942"
      },
      "execution_count": null,
      "outputs": [
        {
          "output_type": "stream",
          "name": "stdout",
          "text": [
            "Introduce un número: 10\n",
            "El número 10 no es primo.\n"
          ]
        }
      ]
    },
    {
      "cell_type": "markdown",
      "source": [
        "11.  Sumar números hasta un límite: Escribe un programa que sume todos los números naturales hasta un número límite introducido por el usuario"
      ],
      "metadata": {
        "id": "VCsnAA-9rXDs"
      }
    },
    {
      "cell_type": "code",
      "source": [
        "def sumar_hasta_limite(limite):\n",
        "    \"\"\"Suma todos los números naturales hasta el número límite incluido.\"\"\"\n",
        "    suma = 0\n",
        "    for numero in range(1, limite + 1):\n",
        "        suma += numero\n",
        "    return suma\n",
        "\n",
        "def solicitar_limite():\n",
        "    while True:\n",
        "        try:\n",
        "            limite = int(input(\"Introduce un número límite: \"))\n",
        "            if limite < 0:\n",
        "                print(\"Por favor, introduce un número natural (mayor o igual a 0).\")\n",
        "            else:\n",
        "                return limite\n",
        "        except Val:\n",
        "            print(\"Por favor, introduce un número válido.\")\n",
        "\n",
        "def main():\n",
        "    limite = solicitar_limite()\n",
        "    resultado = sumar_hasta_limite(limite)\n",
        "    print(f\"La suma de todos los números naturales hasta {limite} es {resultado}.\")\n",
        "\n",
        "if __name__ == \"__main__\":\n",
        "    main()\n",
        "\n"
      ],
      "metadata": {
        "id": "pBeeDXidsMSk",
        "colab": {
          "base_uri": "https://localhost:8080/"
        },
        "outputId": "1e92d851-b502-4115-fdef-949d14f509c9"
      },
      "execution_count": null,
      "outputs": [
        {
          "output_type": "stream",
          "name": "stdout",
          "text": [
            "Introduce un número límite: 20\n",
            "La suma de todos los números naturales hasta 20 es 210.\n"
          ]
        }
      ]
    },
    {
      "cell_type": "markdown",
      "source": [
        "12. Invertir una cadena: Escribe un programa que invierta una cadena introducida por el usuario"
      ],
      "metadata": {
        "id": "FXb0lP7B3H63"
      }
    },
    {
      "cell_type": "code",
      "source": [
        "def invertir_cadena(cadena):\n",
        "      return cadena[::-1]\n",
        "\n",
        "def solicitar_cadena():\n",
        "    return input(\"Introduce una cadena: \")\n",
        "\n",
        "def main():\n",
        "    cadena = solicitar_cadena()\n",
        "    cadena_invertida = invertir_cadena(cadena)\n",
        "    print(f\"La cadena invertida es: {cadena_invertida}\")\n",
        "\n",
        "if __name__ == \"__main__\":\n",
        "    main()\n"
      ],
      "metadata": {
        "colab": {
          "base_uri": "https://localhost:8080/"
        },
        "id": "H_-n6G-m6J_h",
        "outputId": "2db6aa3c-d24a-4e75-9c3f-371b52eca07f"
      },
      "execution_count": null,
      "outputs": [
        {
          "output_type": "stream",
          "name": "stdout",
          "text": [
            "Introduce una cadena: Hola \n",
            "La cadena invertida es:  aloH\n"
          ]
        }
      ]
    },
    {
      "cell_type": "markdown",
      "source": [
        "13. Contar vocales: Escribe un programa que cuente el número de vocales en una cadena introducida por el usuario"
      ],
      "metadata": {
        "id": "F0UCH55C7Hdi"
      }
    },
    {
      "cell_type": "code",
      "source": [
        "def contar_vocales(cadena):\n",
        "    vocales = 'aeiouAEIOU'\n",
        "    contador = 0\n",
        "    for caracter in cadena:\n",
        "        if caracter in vocales:\n",
        "            contador += 1\n",
        "    return contador\n",
        "\n",
        "def solicitar_cadena():\n",
        "    return input(\"Introduce una cadena: \")\n",
        "\n",
        "def main():\n",
        "    cadena = solicitar_cadena()\n",
        "    numero_de_vocales = contar_vocales(cadena)\n",
        "    print(f\"El número de vocales en la cadena es: {numero_de_vocales}\")\n",
        "\n",
        "if __name__ == \"__main__\":\n",
        "    main()\n"
      ],
      "metadata": {
        "colab": {
          "base_uri": "https://localhost:8080/"
        },
        "id": "yycHRrGY7Mra",
        "outputId": "972b225b-1e14-470b-c5c5-4a52eb972176"
      },
      "execution_count": null,
      "outputs": [
        {
          "output_type": "stream",
          "name": "stdout",
          "text": [
            "Introduce una cadena: aeiou\n",
            "El número de vocales en la cadena es: 5\n"
          ]
        }
      ]
    },
    {
      "cell_type": "markdown",
      "source": [
        "14. Palíndromo: Escribe un programa que determine si una cadena introducida por el usuario es un palíndromo"
      ],
      "metadata": {
        "id": "p-m767ut8h3B"
      }
    },
    {
      "cell_type": "code",
      "source": [
        "def es_palindromo(cadena):\n",
        "    \"\"\"Determina si la cadena dada es un palíndromo.\"\"\"\n",
        "    cadena_limpia = ''.join(cadena.split()).lower()\n",
        "    # Comparar la cadena limpia con su inversa\n",
        "    return cadena_limpia == cadena_limpia[::-1]\n",
        "\n",
        "def solicitar_cadena():\n",
        "    return input(\"Introduce una cadena: \")\n",
        "\n",
        "def main():\n",
        "    cadena = solicitar_cadena()\n",
        "    if es_palindromo(cadena):\n",
        "        print(f\"La cadena '{cadena}' es un palíndromo.\")\n",
        "    else:\n",
        "        print(f\"La cadena '{cadena}' no es un palíndromo.\")\n",
        "\n",
        "if __name__ == \"__main__\":\n",
        "    main()\n"
      ],
      "metadata": {
        "colab": {
          "base_uri": "https://localhost:8080/"
        },
        "id": "CbTUdIim8p4I",
        "outputId": "45ba68de-fac4-476f-be5f-ae07ae6f6803"
      },
      "execution_count": null,
      "outputs": [
        {
          "output_type": "stream",
          "name": "stdout",
          "text": [
            "Introduce una cadena: amar, rama\n",
            "La cadena 'amar, rama' es un palíndromo.\n"
          ]
        }
      ]
    },
    {
      "cell_type": "markdown",
      "source": [
        "15. Factorial de un número: Escribe un programa que calcule el factorial de un número introducido por el usuario"
      ],
      "metadata": {
        "id": "FQoXov0u9hCx"
      }
    },
    {
      "cell_type": "code",
      "source": [
        "def calcular_factorial(n):\n",
        "    factorial = 1\n",
        "    for i in range(1, n + 1):\n",
        "        factorial *= i\n",
        "    return factorial\n",
        "\n",
        "def solicitar_numero():\n",
        "    while True:\n",
        "        try:\n",
        "            numero = int(input(\"Introduce un número entero no negativo: \"))\n",
        "            if numero < 0:\n",
        "                print(\"Por favor, introduce un número no negativo.\")\n",
        "            else:\n",
        "                return numero\n",
        "        except Val:\n",
        "            print(\"Por favor, introduce un número válido.\")\n",
        "\n",
        "def main():\n",
        "    numero = solicitar_numero()\n",
        "    resultado = calcular_factorial(numero)\n",
        "    print(f\"El factorial de {numero} es {resultado}.\")\n",
        "\n",
        "if __name__ == \"__main__\":\n",
        "    main()\n"
      ],
      "metadata": {
        "colab": {
          "base_uri": "https://localhost:8080/"
        },
        "id": "0gA4d4Kk9n_r",
        "outputId": "fc28d339-0e90-4498-9221-8311744f110b"
      },
      "execution_count": null,
      "outputs": [
        {
          "output_type": "stream",
          "name": "stdout",
          "text": [
            "Introduce un número entero no negativo: 20\n",
            "El factorial de 20 es 2432902008176640000.\n"
          ]
        }
      ]
    },
    {
      "cell_type": "markdown",
      "source": [
        "16. Generar números aleatorios: Escribe un programa que genere y muestre 5 números aleatorios entre 1 y 100."
      ],
      "metadata": {
        "id": "meu9D1hW-3Xh"
      }
    },
    {
      "cell_type": "code",
      "source": [
        "import random\n",
        "\n",
        "def generar_numeros_aleatorios():\n",
        "    print(\"Números aleatorios:\")\n",
        "    for _ in range(5):\n",
        "        numero = random.randint(1, 100)\n",
        "        print(numero)\n",
        "\n",
        "def main():\n",
        "    generar_numeros_aleatorios()\n",
        "\n",
        "if __name__ == \"__main__\":\n",
        "    main()\n"
      ],
      "metadata": {
        "colab": {
          "base_uri": "https://localhost:8080/"
        },
        "id": "PJRvUgja-8FX",
        "outputId": "d940baf3-c897-4515-dabd-581de29d1e13"
      },
      "execution_count": null,
      "outputs": [
        {
          "output_type": "stream",
          "name": "stdout",
          "text": [
            "Números aleatorios:\n",
            "94\n",
            "92\n",
            "79\n",
            "27\n",
            "91\n"
          ]
        }
      ]
    },
    {
      "cell_type": "markdown",
      "source": [
        "17. Calculadora de índice de masa corporal (IMC): Escribe un programa que calcule el índice de masa corporal (IMC) a partir del peso y la altura introducidos por el usuario"
      ],
      "metadata": {
        "id": "Cpni-PLj_Nmq"
      }
    },
    {
      "cell_type": "code",
      "source": [
        "def calcular_imc(peso, altura):\n",
        "    return peso / (altura ** 2)\n",
        "\n",
        "def solicitar_datos():\n",
        "\n",
        "    while True:\n",
        "        try:\n",
        "            peso = float(input(\"Introduce tu peso en kg: \"))\n",
        "            altura = float(input(\"Introduce tu altura en metros: \"))\n",
        "            if peso <= 0 or altura <= 0:\n",
        "                print(\"Por favor, introduce valores válidos (mayores que 0).\")\n",
        "            else:\n",
        "                return peso, altura\n",
        "        except ValueError:\n",
        "            print(\"Por favor, introduce valores numéricos válidos.\")\n",
        "\n",
        "def main():\n",
        "    peso, altura = solicitar_datos()\n",
        "    imc = calcular_imc(peso, altura)\n",
        "    print(f\"Tu índice de masa corporal (IMC) es: {imc:.2f}\")\n",
        "\n",
        "if __name__ == \"__main__\":\n",
        "    main()\n"
      ],
      "metadata": {
        "colab": {
          "base_uri": "https://localhost:8080/"
        },
        "id": "8NGe7-np_S9U",
        "outputId": "b05da154-2d1e-490d-c507-b677149e5177"
      },
      "execution_count": null,
      "outputs": [
        {
          "output_type": "stream",
          "name": "stdout",
          "text": [
            "Introduce tu peso en kg: 100\n",
            "Introduce tu altura en metros: 1.60\n",
            "Tu índice de masa corporal (IMC) es: 39.06\n"
          ]
        }
      ]
    }
  ]
}