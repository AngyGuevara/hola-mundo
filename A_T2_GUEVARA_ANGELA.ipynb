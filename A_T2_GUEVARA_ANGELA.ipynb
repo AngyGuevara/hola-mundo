{
  "nbformat": 4,
  "nbformat_minor": 0,
  "metadata": {
    "colab": {
      "provenance": [],
      "authorship_tag": "ABX9TyM0OWFppZqppK9gcoBQpolP",
      "include_colab_link": true
    },
    "kernelspec": {
      "name": "python3",
      "display_name": "Python 3"
    },
    "language_info": {
      "name": "python"
    }
  },
  "cells": [
    {
      "cell_type": "markdown",
      "metadata": {
        "id": "view-in-github",
        "colab_type": "text"
      },
      "source": [
        "<a href=\"https://colab.research.google.com/github/AngyGuevara/hola-mundo/blob/main/A_T2_GUEVARA_ANGELA.ipynb\" target=\"_parent\"><img src=\"https://colab.research.google.com/assets/colab-badge.svg\" alt=\"Open In Colab\"/></a>"
      ]
    },
    {
      "cell_type": "code",
      "execution_count": null,
      "metadata": {
        "id": "wsNFGk3irF4G"
      },
      "outputs": [],
      "source": []
    },
    {
      "cell_type": "markdown",
      "source": [
        "1.Hola Mundo: Escribe un programa que imprima \"Hola, Mundo!\" en la pantalla.\n"
      ],
      "metadata": {
        "id": "XMbrY0d1rGuv"
      }
    },
    {
      "cell_type": "code",
      "source": [
        "print(\"Hola Mundo\")"
      ],
      "metadata": {
        "colab": {
          "base_uri": "https://localhost:8080/"
        },
        "id": "X4AxEjP3rSVP",
        "outputId": "d8b11e7d-94e7-4ddf-e29b-a5ee800093ed"
      },
      "execution_count": 1,
      "outputs": [
        {
          "output_type": "stream",
          "name": "stdout",
          "text": [
            "Hola Mundo\n"
          ]
        }
      ]
    },
    {
      "cell_type": "markdown",
      "source": [
        "2. Suma de dos números: Escribe un programa que pida al usuario dos números y los sume."
      ],
      "metadata": {
        "id": "u3CVmyyjreGZ"
      }
    },
    {
      "cell_type": "code",
      "source": [
        "n1 = int(input(\"Ingrese primer numero: \"))\n",
        "n2 = int(input(\"Ingrese segundo numero: \"))\n",
        "\n"
      ],
      "metadata": {
        "id": "UVO8_JqmrmYn"
      },
      "execution_count": null,
      "outputs": []
    },
    {
      "cell_type": "markdown",
      "source": [
        "3.Par o Impar: Escribe un programa que determine si un número introducido por el usuario es par o impar"
      ],
      "metadata": {
        "id": "H3fpCjyesEdl"
      }
    },
    {
      "cell_type": "code",
      "source": [
        "num = int(input(\"Ingrese el numero entero: \"))\n",
        "if num % 2 == 0:\n",
        "    print(\"El numero es par\")\n",
        "else:\n",
        "    print(\"El numero es impar\")"
      ],
      "metadata": {
        "colab": {
          "base_uri": "https://localhost:8080/"
        },
        "id": "wPHtquwzsNje",
        "outputId": "bcb1be6b-c8c8-4954-af5f-baca36d79fac"
      },
      "execution_count": 2,
      "outputs": [
        {
          "output_type": "stream",
          "name": "stdout",
          "text": [
            "Ingrese el numero entero: 20\n",
            "El numero es par\n"
          ]
        }
      ]
    },
    {
      "cell_type": "markdown",
      "source": [
        "4. Calculadora básica: Escribe un programa que realice operaciones básicas (suma, resta, multiplicación y división) entre dos números introducidos por el usuario"
      ],
      "metadata": {
        "id": "NX7wkYvgsWdk"
      }
    },
    {
      "cell_type": "code",
      "source": [
        "n1 = input(\"ingrese un numero\")\n",
        "n2 = input(\"ingrese otro numero\")\n",
        "print(\"1 suma\")\n",
        "print(\"2 resta\")\n",
        "print(\"3 multiplicacion\")\n",
        "print(\"4 division\")\n",
        "seleccion = input(\"selecione la operacion\")\n",
        "\n",
        "if seleccion == \"1\":\n",
        "    print(int(n1) + int(n2))\n",
        "elif seleccion == \"2\":\n",
        "    print(int(n1) - int (n2))\n",
        "elif seleccion == \"3\":\n",
        "    print(int(n1) * int(n2))\n",
        "else:\n",
        "    print(int(n1) / int(n2))"
      ],
      "metadata": {
        "colab": {
          "base_uri": "https://localhost:8080/"
        },
        "id": "WGfIGCncsfSe",
        "outputId": "5d4e1782-3e0e-4af0-f9d3-f7661592a546"
      },
      "execution_count": 6,
      "outputs": [
        {
          "output_type": "stream",
          "name": "stdout",
          "text": [
            "ingrese un numero20\n",
            "ingrese otro numero10\n",
            "1 suma\n",
            "2 resta\n",
            "3 multiplicacion\n",
            "4 division\n",
            "selecione la operacion2\n",
            "10\n"
          ]
        }
      ]
    },
    {
      "cell_type": "code",
      "source": [
        "5. Número mayor: Escribe un programa que pida tres números al usuario y determine cuál es el mayor"
      ],
      "metadata": {
        "id": "DSiHY9-1s4ks"
      },
      "execution_count": null,
      "outputs": []
    },
    {
      "cell_type": "code",
      "source": [
        "n1 = int(input(\"Ingrese primer numero: \"))\n",
        "n2 = int(input(\"Ingrese segundo numero: \"))\n",
        "if n1 < n2:\n",
        "  print(\"El numero menor es n1\")\n",
        "if n1 > n2:\n",
        "  print(\"El numero menor es n2\")\n"
      ],
      "metadata": {
        "colab": {
          "base_uri": "https://localhost:8080/"
        },
        "id": "Xw5FAKX5tWG3",
        "outputId": "080cfd66-ebec-44de-f49f-7733bf695098"
      },
      "execution_count": 9,
      "outputs": [
        {
          "output_type": "stream",
          "name": "stdout",
          "text": [
            "Ingrese primer numero: 10\n",
            "Ingrese segundo numero: 3\n",
            "El numero menor es n2\n"
          ]
        }
      ]
    },
    {
      "cell_type": "code",
      "source": [],
      "metadata": {
        "id": "OQb0lTzivR1r"
      },
      "execution_count": null,
      "outputs": []
    }
  ]
}